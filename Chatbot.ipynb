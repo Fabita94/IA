{
  "nbformat": 4,
  "nbformat_minor": 0,
  "metadata": {
    "colab": {
      "name": "Chatbot.ipynb",
      "provenance": [],
      "collapsed_sections": [],
      "toc_visible": true,
      "include_colab_link": true
    },
    "kernelspec": {
      "name": "python3",
      "display_name": "Python 3"
    },
    "accelerator": "GPU"
  },
  "cells": [
    {
      "cell_type": "markdown",
      "metadata": {
        "id": "view-in-github",
        "colab_type": "text"
      },
      "source": [
        "<a href=\"https://colab.research.google.com/github/Fabita94/IA/blob/master/Chatbot.ipynb\" target=\"_parent\"><img src=\"https://colab.research.google.com/assets/colab-badge.svg\" alt=\"Open In Colab\"/></a>"
      ]
    },
    {
      "cell_type": "markdown",
      "metadata": {
        "id": "BoeTIdqVZiKh",
        "colab_type": "text"
      },
      "source": [
        "information sur wikipedia https://en.wikipedia.org/wiki/History_of_medicine#Prehistoric_medicine"
      ]
    },
    {
      "cell_type": "markdown",
      "metadata": {
        "id": "6nxhsZtLhZFV",
        "colab_type": "text"
      },
      "source": [
        "This code come from https://medium.com/analytics-vidhya/building-a-simple-chatbot-in-python-using-nltk-7c8c8215ac6e\n"
      ]
    },
    {
      "cell_type": "code",
      "metadata": {
        "id": "qC61wlW2GXAS",
        "colab_type": "code",
        "colab": {}
      },
      "source": [
        "import nltk\n",
        "import numpy as np\n",
        "import random\n",
        "import string # to process standard python strings"
      ],
      "execution_count": 35,
      "outputs": []
    },
    {
      "cell_type": "code",
      "metadata": {
        "id": "UjhK0b9i25Zr",
        "colab_type": "code",
        "colab": {
          "base_uri": "https://localhost:8080/",
          "height": 85
        },
        "outputId": "250eeed6-d1be-4579-d0d4-8eaa2fe2b2a7"
      },
      "source": [
        "f=open('chatbot.txt','r',errors = 'ignore')\n",
        "raw=f.read()\n",
        "raw=raw.lower()# converts to lowercase\n",
        "nltk.download('punkt') # first-time use only\n",
        "nltk.download('wordnet') # first-time use only\n",
        "sent_tokens = nltk.sent_tokenize(raw)# converts to list of sentences \n",
        "word_tokens = nltk.word_tokenize(raw)# converts to list of words"
      ],
      "execution_count": 84,
      "outputs": [
        {
          "output_type": "stream",
          "text": [
            "[nltk_data] Downloading package punkt to /root/nltk_data...\n",
            "[nltk_data]   Package punkt is already up-to-date!\n",
            "[nltk_data] Downloading package wordnet to /root/nltk_data...\n",
            "[nltk_data]   Package wordnet is already up-to-date!\n"
          ],
          "name": "stdout"
        }
      ]
    },
    {
      "cell_type": "markdown",
      "metadata": {
        "id": "VH9u-UrXOjlG",
        "colab_type": "text"
      },
      "source": [
        "# Nouvelle section"
      ]
    },
    {
      "cell_type": "markdown",
      "metadata": {
        "id": "J1IMgrBlOkSH",
        "colab_type": "text"
      },
      "source": [
        "# Nouvelle section"
      ]
    },
    {
      "cell_type": "code",
      "metadata": {
        "id": "DjgAMOaD3Ajh",
        "colab_type": "code",
        "colab": {
          "base_uri": "https://localhost:8080/",
          "height": 34
        },
        "outputId": "89d952a1-83f5-4ea3-979e-d9947e9a869c"
      },
      "source": [
        "sent_tokens[:2]\n",
        "['a chatbot (also known as a talkbot, chatterbot, bot, im bot, interactive agent, or artificial conversational entity) is a computer program or an artificial intelligence which conducts a conversation via auditory or textual methods.',\n",
        " 'such programs are often designed to convincingly simulate how a human would behave as a conversational partner, thereby passing the turing test.']\n",
        "word_tokens[:2]\n",
        "['a', 'chatbot', '(', 'also', 'known']"
      ],
      "execution_count": 85,
      "outputs": [
        {
          "output_type": "execute_result",
          "data": {
            "text/plain": [
              "['a', 'chatbot', '(', 'also', 'known']"
            ]
          },
          "metadata": {
            "tags": []
          },
          "execution_count": 85
        }
      ]
    },
    {
      "cell_type": "code",
      "metadata": {
        "id": "fBFs_mON3H7l",
        "colab_type": "code",
        "colab": {}
      },
      "source": [
        "lemmer = nltk.stem.WordNetLemmatizer()\n",
        "#WordNet is a semantically-oriented dictionary of English included in NLTK.\n",
        "def LemTokens(tokens):\n",
        "    return [lemmer.lemmatize(token) for token in tokens]\n",
        "remove_punct_dict = dict((ord(punct), None) for punct in string.punctuation)\n",
        "def LemNormalize(text):\n",
        "    return LemTokens(nltk.word_tokenize(text.lower().translate(remove_punct_dict)))"
      ],
      "execution_count": 86,
      "outputs": []
    },
    {
      "cell_type": "code",
      "metadata": {
        "id": "hredt8AF3RnH",
        "colab_type": "code",
        "colab": {}
      },
      "source": [
        "GREETING_INPUTS = (\"hello\", \"hi\", \"greetings\", \"sup\", \"what's up\",\"hey\",)\n",
        "GREETING_RESPONSES = [\"hi\", \"hey\", \"*nods*\", \"hi there\", \"hello\", \"I am glad! You are talking to me\"]\n",
        "def greeting(sentence):\n",
        " \n",
        "    for word in sentence.split():\n",
        "        if word.lower() in GREETING_INPUTS:\n",
        "            return random.choice(GREETING_RESPONSES)"
      ],
      "execution_count": 87,
      "outputs": []
    },
    {
      "cell_type": "code",
      "metadata": {
        "id": "esZDrRK43X-A",
        "colab_type": "code",
        "colab": {}
      },
      "source": [
        "from sklearn.feature_extraction.text import TfidfVectorizer"
      ],
      "execution_count": 88,
      "outputs": []
    },
    {
      "cell_type": "code",
      "metadata": {
        "id": "IAZA5hL24sEO",
        "colab_type": "code",
        "colab": {}
      },
      "source": [
        "from sklearn.metrics.pairwise import cosine_similarity"
      ],
      "execution_count": 89,
      "outputs": []
    },
    {
      "cell_type": "code",
      "metadata": {
        "id": "ysAG1Bbs4zd9",
        "colab_type": "code",
        "colab": {}
      },
      "source": [
        "def response(user_response):\n",
        "    robo_response=''\n",
        "    sent_tokens.append(user_response)\n",
        "    TfidfVec = TfidfVectorizer(tokenizer=LemNormalize, stop_words='english')\n",
        "    tfidf = TfidfVec.fit_transform(sent_tokens)\n",
        "    vals = cosine_similarity(tfidf[-1], tfidf)\n",
        "    idx=vals.argsort()[0][-2]\n",
        "    flat = vals.flatten()\n",
        "    flat.sort()\n",
        "    req_tfidf = flat[-2]\n",
        "    if(req_tfidf==0):\n",
        "        robo_response=robo_response+\"I am sorry! I don't understand you\"\n",
        "        return robo_response\n",
        "    else:\n",
        "        robo_response = robo_response+sent_tokens[idx]\n",
        "        return robo_response"
      ],
      "execution_count": 90,
      "outputs": []
    },
    {
      "cell_type": "code",
      "metadata": {
        "id": "fA8yLhLeZRPL",
        "colab_type": "code",
        "colab": {}
      },
      "source": [
        "import sys \n",
        "from termcolor import colored, cprint"
      ],
      "execution_count": 91,
      "outputs": []
    },
    {
      "cell_type": "code",
      "metadata": {
        "id": "-cnqlUOHN4H1",
        "colab_type": "code",
        "colab": {
          "base_uri": "https://localhost:8080/",
          "height": 326
        },
        "outputId": "a5d1e4ec-9e71-497a-b94c-c0cc7e5e5cbb"
      },
      "source": [
        "flag=True\n",
        "text = colored(\"ROBO: My name is vicky. I will answer your queries about Chatbots. If you want to exit, type Bye!\", 'magenta', attrs=['reverse', 'blink']) \n",
        "print(text) \n",
        "while(flag==True):\n",
        "    user_response = input()\n",
        "    user_response=user_response.lower()\n",
        "    if(user_response!='bye'):\n",
        "        if(user_response=='thanks' or user_response=='thank you' ):\n",
        "            flag=False\n",
        "            text = colored(\"ROBO: You are welcome..\", 'green', attrs=['reverse', 'blink'])\n",
        "            print(text)\n",
        "        else:\n",
        "            if(greeting(user_response)!=None):\n",
        "                text = colored(\"ROBO: \", 'yellow', attrs=['reverse', 'blink'])\n",
        "                texte = colored(greeting(user_response), 'magenta', attrs=['reverse', 'blink'])\n",
        "                print(text+texte)\n",
        "            else:\n",
        "                text = colored(\"ROBO: \", 'yellow', attrs=['reverse', 'blink'])\n",
        "                print(text,end=\"\")\n",
        "                texte = response(user_response)\n",
        "                text = colored(texte, 'cyan', attrs=['reverse', 'blink'])\n",
        "                print(text)\n",
        "                sent_tokens.remove(user_response)\n",
        "    else:\n",
        "        flag=False\n",
        "        text = colored(\"ROBO: Bye! take care..\", 'green', attrs=['reverse', 'blink'])\n",
        "        print(text)"
      ],
      "execution_count": 94,
      "outputs": [
        {
          "output_type": "stream",
          "text": [
            "\u001b[5m\u001b[7m\u001b[35mROBO: My name is vicky. I will answer your queries about Chatbots. If you want to exit, type Bye!\u001b[0m\n",
            "hi\n",
            "\u001b[5m\u001b[7m\u001b[33mROBO: \u001b[0m\u001b[5m\u001b[7m\u001b[35mhi there\u001b[0m\n",
            "history of medicine\n",
            "\u001b[5m\u001b[7m\u001b[33mROBO: \u001b[0m\u001b[5m\u001b[7m\u001b[36mthe history of medicine shows how societies have changed in their approach to illness and disease from ancient times to the present.\u001b[0m\n",
            "Greek Galen\n",
            "\u001b[5m\u001b[7m\u001b[33mROBO: \u001b[0m\u001b[5m\u001b[7m\u001b[36m[61]\n",
            "\n",
            "galen\n",
            "the greek galen (c. 129–216 ad) was one of the greatest physicians of the ancient world, studying and traveling widely in ancient rome.\u001b[0m\n",
            "Roman contributions\n",
            "\u001b[5m\u001b[7m\u001b[33mROBO: \u001b[0m\u001b[5m\u001b[7m\u001b[36mnaples dioscurides, 7th century\n",
            "roman contributions\n",
            "main articles: medicine in ancient rome and medical community of ancient rome\n",
            "the romans invented numerous surgical instruments, including the first instruments unique to women,[68] as well as the surgical uses of forceps, scalpels, cautery, cross-bladed scissors, the surgical needle, the sound, and speculas.\u001b[0m\n",
            "thanks\n",
            "\u001b[5m\u001b[7m\u001b[32mROBO: You are welcome..\u001b[0m\n"
          ],
          "name": "stdout"
        }
      ]
    }
  ]
}