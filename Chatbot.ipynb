{
  "nbformat": 4,
  "nbformat_minor": 0,
  "metadata": {
    "colab": {
      "name": "Chatbot.ipynb",
      "provenance": [],
      "collapsed_sections": [],
      "include_colab_link": true
    },
    "kernelspec": {
      "name": "python3",
      "display_name": "Python 3"
    },
    "accelerator": "GPU"
  },
  "cells": [
    {
      "cell_type": "markdown",
      "metadata": {
        "id": "view-in-github",
        "colab_type": "text"
      },
      "source": [
        "<a href=\"https://colab.research.google.com/github/Fabita94/IA/blob/master/Chatbot.ipynb\" target=\"_parent\"><img src=\"https://colab.research.google.com/assets/colab-badge.svg\" alt=\"Open In Colab\"/></a>"
      ]
    },
    {
      "cell_type": "markdown",
      "metadata": {
        "id": "BoeTIdqVZiKh",
        "colab_type": "text"
      },
      "source": [
        "information sur wikipedia https://en.wikipedia.org/wiki/History_of_medicine#Prehistoric_medicine"
      ]
    },
    {
      "cell_type": "markdown",
      "metadata": {
        "id": "67BtjlxSHWBL",
        "colab_type": "text"
      },
      "source": [
        "This code come from https://medium.com/analytics-vidhya/building-a-simple-chatbot-in-python-using-nltk-7c8c8215ac6e\n"
      ]
    },
    {
      "cell_type": "code",
      "metadata": {
        "id": "HLFDD6t4iTCk",
        "colab_type": "code",
        "colab": {
          "base_uri": "https://localhost:8080/",
          "height": 207
        },
        "outputId": "1a3cb2bd-f635-444f-c643-27ab02db92cd"
      },
      "source": [
        "pip install gTTS"
      ],
      "execution_count": null,
      "outputs": [
        {
          "output_type": "stream",
          "text": [
            "Requirement already satisfied: gTTS in /usr/local/lib/python3.6/dist-packages (2.1.1)\n",
            "Requirement already satisfied: six in /usr/local/lib/python3.6/dist-packages (from gTTS) (1.12.0)\n",
            "Requirement already satisfied: click in /usr/local/lib/python3.6/dist-packages (from gTTS) (7.1.2)\n",
            "Requirement already satisfied: requests in /usr/local/lib/python3.6/dist-packages (from gTTS) (2.23.0)\n",
            "Requirement already satisfied: beautifulsoup4 in /usr/local/lib/python3.6/dist-packages (from gTTS) (4.6.3)\n",
            "Requirement already satisfied: gtts-token>=1.1.3 in /usr/local/lib/python3.6/dist-packages (from gTTS) (1.1.3)\n",
            "Requirement already satisfied: urllib3!=1.25.0,!=1.25.1,<1.26,>=1.21.1 in /usr/local/lib/python3.6/dist-packages (from requests->gTTS) (1.24.3)\n",
            "Requirement already satisfied: idna<3,>=2.5 in /usr/local/lib/python3.6/dist-packages (from requests->gTTS) (2.9)\n",
            "Requirement already satisfied: certifi>=2017.4.17 in /usr/local/lib/python3.6/dist-packages (from requests->gTTS) (2020.4.5.2)\n",
            "Requirement already satisfied: chardet<4,>=3.0.2 in /usr/local/lib/python3.6/dist-packages (from requests->gTTS) (3.0.4)\n"
          ],
          "name": "stdout"
        }
      ]
    },
    {
      "cell_type": "code",
      "metadata": {
        "id": "qC61wlW2GXAS",
        "colab_type": "code",
        "colab": {}
      },
      "source": [
        "import nltk\n",
        "import numpy as np\n",
        "import random\n",
        "import string # to process standard python strings\n",
        "import warnings"
      ],
      "execution_count": null,
      "outputs": []
    },
    {
      "cell_type": "code",
      "metadata": {
        "id": "73NhYuTS7wUg",
        "colab_type": "code",
        "colab": {}
      },
      "source": [
        " warnings.filterwarnings('ignore')"
      ],
      "execution_count": null,
      "outputs": []
    },
    {
      "cell_type": "code",
      "metadata": {
        "id": "UjhK0b9i25Zr",
        "colab_type": "code",
        "colab": {
          "base_uri": "https://localhost:8080/",
          "height": 85
        },
        "outputId": "3535f3d9-5ded-44e2-9d1d-1210eced8dfc"
      },
      "source": [
        "f=open('chatbot.txt','r',errors = 'ignore')\n",
        "raw=f.read()\n",
        "raw=raw.lower()# converts to lowercase\n",
        "nltk.download('punkt') # first-time use only\n",
        "nltk.download('wordnet') # first-time use only\n",
        "sent_tokens = nltk.sent_tokenize(raw)# converts to list of sentences \n",
        "word_tokens = nltk.word_tokenize(raw)# converts to list of words"
      ],
      "execution_count": null,
      "outputs": [
        {
          "output_type": "stream",
          "text": [
            "[nltk_data] Downloading package punkt to /root/nltk_data...\n",
            "[nltk_data]   Package punkt is already up-to-date!\n",
            "[nltk_data] Downloading package wordnet to /root/nltk_data...\n",
            "[nltk_data]   Package wordnet is already up-to-date!\n"
          ],
          "name": "stdout"
        }
      ]
    },
    {
      "cell_type": "code",
      "metadata": {
        "id": "DjgAMOaD3Ajh",
        "colab_type": "code",
        "colab": {
          "base_uri": "https://localhost:8080/",
          "height": 34
        },
        "outputId": "1b463cfc-f404-4d5d-d132-191ce71c0c47"
      },
      "source": [
        "sent_tokens[:2]\n",
        "['a chatbot (also known as a talkbot, chatterbot, bot, im bot, interactive agent, or artificial conversational entity) is a computer program or an artificial intelligence which conducts a conversation via auditory or textual methods.',\n",
        " 'such programs are often designed to convincingly simulate how a human would behave as a conversational partner, thereby passing the turing test.']\n",
        "word_tokens[:2]\n",
        "['a', 'chatbot', '(', 'also', 'known']"
      ],
      "execution_count": null,
      "outputs": [
        {
          "output_type": "execute_result",
          "data": {
            "text/plain": [
              "['a', 'chatbot', '(', 'also', 'known']"
            ]
          },
          "metadata": {
            "tags": []
          },
          "execution_count": 31
        }
      ]
    },
    {
      "cell_type": "code",
      "metadata": {
        "id": "fBFs_mON3H7l",
        "colab_type": "code",
        "colab": {}
      },
      "source": [
        "lemmer = nltk.stem.WordNetLemmatizer()\n",
        "#WordNet is a semantically-oriented dictionary of English included in NLTK.\n",
        "def LemTokens(tokens):\n",
        "    return [lemmer.lemmatize(token) for token in tokens]\n",
        "remove_punct_dict = dict((ord(punct), None) for punct in string.punctuation)\n",
        "def LemNormalize(text):\n",
        "    return LemTokens(nltk.word_tokenize(text.lower().translate(remove_punct_dict)))"
      ],
      "execution_count": null,
      "outputs": []
    },
    {
      "cell_type": "code",
      "metadata": {
        "id": "hredt8AF3RnH",
        "colab_type": "code",
        "colab": {}
      },
      "source": [
        "GREETING_INPUTS = (\"hello\", \"hi\", \"greetings\", \"sup\", \"what's up\",)\n",
        "GREETING_RESPONSES = [\"hi\", \"hey\", \"*nods*\", \"hello\", \"I am glad! You are talking to me\"]\n",
        "def greeting(sentence):\n",
        " \n",
        "    for word in sentence.split():\n",
        "        if word.lower() in GREETING_INPUTS:\n",
        "            return random.choice(GREETING_RESPONSES)"
      ],
      "execution_count": null,
      "outputs": []
    },
    {
      "cell_type": "code",
      "metadata": {
        "id": "esZDrRK43X-A",
        "colab_type": "code",
        "colab": {}
      },
      "source": [
        "from sklearn.feature_extraction.text import TfidfVectorizer"
      ],
      "execution_count": null,
      "outputs": []
    },
    {
      "cell_type": "code",
      "metadata": {
        "id": "IAZA5hL24sEO",
        "colab_type": "code",
        "colab": {}
      },
      "source": [
        "from sklearn.metrics.pairwise import cosine_similarity"
      ],
      "execution_count": null,
      "outputs": []
    },
    {
      "cell_type": "code",
      "metadata": {
        "id": "ysAG1Bbs4zd9",
        "colab_type": "code",
        "colab": {}
      },
      "source": [
        "def response(user_response):\n",
        "    robo_response=''\n",
        "    sent_tokens.append(user_response)\n",
        "    TfidfVec = TfidfVectorizer(tokenizer=LemNormalize, stop_words='english')\n",
        "    tfidf = TfidfVec.fit_transform(sent_tokens)\n",
        "    vals = cosine_similarity(tfidf[-1], tfidf)\n",
        "    idx=vals.argsort()[0][-2]\n",
        "    flat = vals.flatten()\n",
        "    flat.sort()\n",
        "    req_tfidf = flat[-2]\n",
        "    if(req_tfidf==0):\n",
        "        robo_response=robo_response+\"I am sorry! I don't understand you\"\n",
        "        return robo_response\n",
        "    else:\n",
        "        robo_response = robo_response+sent_tokens[idx]\n",
        "        return robo_response"
      ],
      "execution_count": null,
      "outputs": []
    },
    {
      "cell_type": "code",
      "metadata": {
        "id": "Bpo40IAHO8Rx",
        "colab_type": "code",
        "colab": {}
      },
      "source": [
        "import sys \n",
        "from termcolor import colored, cprint"
      ],
      "execution_count": null,
      "outputs": []
    },
    {
      "cell_type": "code",
      "metadata": {
        "id": "8nLake9X41Xh",
        "colab_type": "code",
        "colab": {
          "base_uri": "https://localhost:8080/",
          "height": 564
        },
        "outputId": "321f9636-ae0f-4569-bc4a-df11522507e8"
      },
      "source": [
        "flag=True\n",
        "text = colored(\"Vicky: My name is vicky. I will answer your queries about Medicine. If you want to exit, type Bye!\", 'magenta', attrs=['reverse', 'blink']) \n",
        "print(text) \n",
        "while(flag==True):\n",
        "    user_response = input()\n",
        "    user_response=user_response.lower()\n",
        "    if(user_response!='bye'):\n",
        "        if(user_response=='thanks' or user_response=='thank you' ):\n",
        "            flag=False\n",
        "            text = colored(\"Vicky: You are welcome..\", 'green', attrs=['reverse', 'blink'])\n",
        "            print(text)\n",
        "        else:\n",
        "            if(greeting(user_response)!=None):\n",
        "                text = colored(\"Vicky: \", 'yellow', attrs=['reverse', 'blink'])\n",
        "                texte = colored(greeting(user_response), 'magenta', attrs=['reverse', 'blink'])\n",
        "                print(text+texte)\n",
        "            else:\n",
        "                text = colored(\"Vicky: \", 'yellow', attrs=['reverse', 'blink'])\n",
        "                print(text,end=\"\")\n",
        "                texte = response(user_response)\n",
        "                text = colored(texte, 'cyan', attrs=['reverse', 'blink'])\n",
        "                print(text)\n",
        "                sent_tokens.remove(user_response)\n",
        "    else:\n",
        "        flag=False\n",
        "        text = colored(\"Vicky: Bye! take care..\", 'green', attrs=['reverse', 'blink'])\n",
        "        print(text)"
      ],
      "execution_count": null,
      "outputs": [
        {
          "output_type": "stream",
          "text": [
            "\u001b[5m\u001b[7m\u001b[35mVicky: My name is vicky. I will answer your queries about Medicine. If you want to exit, type Bye!\u001b[0m\n",
            "hello\n",
            "\u001b[5m\u001b[7m\u001b[33mVicky: \u001b[0m\u001b[5m\u001b[7m\u001b[35mhi\u001b[0m\n",
            "bonjour\n",
            "\u001b[5m\u001b[7m\u001b[33mVicky: \u001b[0m\u001b[5m\u001b[7m\u001b[36mI am sorry! I don't understand you\u001b[0m\n",
            "which was the basis of the scientific study of anatomy\n",
            "\u001b[5m\u001b[7m\u001b[33mVicky: \u001b[0m\u001b[5m\u001b[7m\u001b[36m[58]\n",
            "two great alexandrians laid the foundations for the scientific study of anatomy and physiology, herophilus of chalcedon and erasistratus of ceos.\u001b[0m\n",
            "when was organ transplantation introduced\n",
            "\u001b[5m\u001b[7m\u001b[33mVicky: \u001b[0m\u001b[5m\u001b[7m\u001b[36mtransplantations of other organs, such as heart, liver and pancreas, were also introduced during the later 20th century.\u001b[0m\n",
            "who is elizabeth blackwell\n",
            "\u001b[5m\u001b[7m\u001b[33mVicky: \u001b[0m\u001b[5m\u001b[7m\u001b[36melizabeth blackwell (18211910) became the first woman to formally study and practice medicine in the united states.\u001b[0m\n",
            "what is paracelsus\n",
            "\u001b[5m\u001b[7m\u001b[33mVicky: \u001b[0m\u001b[5m\u001b[7m\u001b[36m[102]\n",
            "\n",
            "paracelsus\n",
            "further information: paracelsianism\n",
            "paracelsus (14931541), was an erratic and abusive innovator who rejected galen and bookish knowledge, calling for experimental research, with heavy doses of mysticism, alchemy and magic mixed in.\u001b[0m\n",
            "what did the romans invent\n",
            "\u001b[5m\u001b[7m\u001b[33mVicky: \u001b[0m\u001b[5m\u001b[7m\u001b[36m[69][70] romans also performed cataract surgery.\u001b[0m\n",
            "who was the Greek Galen\n",
            "\u001b[5m\u001b[7m\u001b[33mVicky: \u001b[0m\u001b[5m\u001b[7m\u001b[36m[61]\n",
            "\n",
            "galen\n",
            "the greek galen (c. 129216 ad) was one of the greatest physicians of the ancient world, studying and traveling widely in ancient rome.\u001b[0m\n",
            "cited two key aspects of Chinese medical history which historians have noted\n",
            "\u001b[5m\u001b[7m\u001b[33mVicky: \u001b[0m\u001b[5m\u001b[7m\u001b[36mhistorians have noted two key aspects of chinese medical history: understanding conceptual differences when translating the term \"shn\", and observing the history from the perspective of cosmology rather than biology.\u001b[0m\n",
            "what happens when a person gets sick\n",
            "\u001b[5m\u001b[7m\u001b[33mVicky: \u001b[0m\u001b[5m\u001b[7m\u001b[36mhippocrates was the first documented person to practise cardiothoracic surgery, and his findings are still valid.\u001b[0m\n",
            "bye\n",
            "\u001b[5m\u001b[7m\u001b[32mVicky: Bye! take care..\u001b[0m\n"
          ],
          "name": "stdout"
        }
      ]
    }
  ]
}